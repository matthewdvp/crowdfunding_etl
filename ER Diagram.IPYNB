{
 "cells": [
  {
   "attachments": {},
   "cell_type": "markdown",
   "id": "826e9b39",
   "metadata": {},
   "source": [
    "contacts\n",
    "contact_id SERIAL PRIMARY KEY\n",
    "full_name VARCHAR(255) NOT NULL\n",
    "email VARCHAR(255) NOT NULL"
   ]
  },
  {
   "attachments": {},
   "cell_type": "markdown",
   "id": "7b67593d",
   "metadata": {},
   "source": [
    "campaign\n",
    "cf_id SERIAL PRIMARY KEY\n",
    "contact_id INTEGER NOT NULL REFERENCES contacts(contact_id)\n",
    "company_name VARCHAR(255) NOT NULL\n",
    "description TEXT\n",
    "goal DECIMAL(10,2) NOT NULL\n",
    "pledged DECIMAL(10,2) NOT NULL\n",
    "outcome VARCHAR(255)\n",
    "backers_count INTEGER NOT NULL\n",
    "country VARCHAR(255) NOT NULL\n",
    "currency VARCHAR(3) NOT NULL\n",
    "launch_date DATE NOT NULL\n",
    "end_date DATE NOT NULL\n",
    "staff_pick BOOLEAN\n",
    "spotlight BOOLEAN\n",
    "category_id INTEGER NOT NULL REFERENCES category(category_id)\n",
    "subcategory_id INTEGER NOT NULL REFERENCES subcategory(subcategory_id)"
   ]
  },
  {
   "attachments": {},
   "cell_type": "markdown",
   "id": "cae50c03",
   "metadata": {},
   "source": [
    "category\n",
    "category_id SERIAL PRIMARY KEY\n",
    "category VARCHAR(255) NOT NULL"
   ]
  },
  {
   "attachments": {},
   "cell_type": "markdown",
   "id": "551c2c9a",
   "metadata": {},
   "source": [
    "subcategory\n",
    "subcategory_id SERIAL PRIMARY KEY\n",
    "subcategory VARCHAR(255) NOT NULL"
   ]
  },
  {
   "cell_type": "code",
   "execution_count": null,
   "id": "63e18230",
   "metadata": {},
   "outputs": [],
   "source": [
    "                 +------------+\n",
    "                 |  Contacts  |\n",
    "                 +------------+\n",
    "                 | contact_id |<-----+\n",
    "                 | full_name  |      |\n",
    "                 | email      |      |\n",
    "                 +------------+      |\n",
    "                                      |\n",
    "                                      |\n",
    "                 +------------+      |\n",
    "                 |  Campaigns |      |\n",
    "                 +------------+      |\n",
    "         +--------|    cf_id   |      |\n",
    "         |       | contact_id |------+        \n",
    "         |       |company_name|      |\n",
    "         |       |description|      |\n",
    "         |       |    goal   |      |\n",
    "         |       |  pledged  |      |\n",
    "         |       |  outcome  |      |\n",
    "         |       |backers_cnt|      |\n",
    "         |       |  country  |      |\n",
    "         |       |  currency |      |\n",
    "         |       |launch_date|      |\n",
    "         |       |  end_date |      |\n",
    "         |       |staff_pick |      |\n",
    "         |       | spotlight |      |\n",
    "         |       |category_id|------+  \n",
    "         |       |subcategory|      |\n",
    "         |       +------------+      |\n",
    "         |                             |\n",
    "         |                             |\n",
    "         |                             |\n",
    "         |                             |\n",
    "         |       +------------+      |\n",
    "         +------>|  Category  |      |\n",
    "                 +------------+      |\n",
    "                 | category_id|<-----+\n",
    "                 |  category  |      \n",
    "                 +------------+      \n",
    "                                     \n",
    "                                     \n",
    "                 +-------------------+\n",
    "                 |    Subcategory    |\n",
    "                 +-------------------+\n",
    "                 |   subcategory_id  |<-----+\n",
    "                 |     subcategory  |      |\n",
    "                 +-------------------+  \n"
   ]
  }
 ],
 "metadata": {
  "kernelspec": {
   "display_name": "Python 3 (ipykernel)",
   "language": "python",
   "name": "python3"
  },
  "language_info": {
   "codemirror_mode": {
    "name": "ipython",
    "version": 3
   },
   "file_extension": ".py",
   "mimetype": "text/x-python",
   "name": "python",
   "nbconvert_exporter": "python",
   "pygments_lexer": "ipython3",
   "version": "3.9.13"
  }
 },
 "nbformat": 4,
 "nbformat_minor": 5
}
